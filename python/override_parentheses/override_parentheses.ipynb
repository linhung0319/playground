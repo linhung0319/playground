{
 "cells": [
  {
   "cell_type": "code",
   "execution_count": 16,
   "metadata": {},
   "outputs": [
    {
     "name": "stdout",
     "output_type": "stream",
     "text": [
      "Alice is constructed.\n",
      "Alice is a Cat.\n",
      "Alice meows 6 times\n",
      "\n",
      "Little Tiger is constructed.\n",
      "Little Tiger is a Dog\n",
      "Little Tiger barks 1 times\n"
     ]
    }
   ],
   "source": [
    "from abc import ABC, abstractmethod\n",
    "class Animal(ABC):\n",
    "    def __init__(self, name):\n",
    "        self.name = name\n",
    "        print(\"{} is constructed.\".format(self.name))\n",
    "\n",
    "\n",
    "    def __call__(self, *args, **kwargs):\n",
    "        self.call(*args, **kwargs)\n",
    "\n",
    "    @abstractmethod\n",
    "    def call(self, *args, **kwargs):\n",
    "        pass\n",
    "\n",
    "\n",
    "class Cat(Animal):\n",
    "    def __init__(self, name):\n",
    "        super().__init__(name)\n",
    "        print(\"{} is a Cat.\".format(self.name))\n",
    "\n",
    "    def call(self, n):\n",
    "        print(\"{} meows {} times\".format(self.name, n))\n",
    "\n",
    "class Dog(Animal):\n",
    "    def __init__(self, name):\n",
    "        super().__init__(name)\n",
    "        print(\"{} is a Dog\".format(self.name))\n",
    "\n",
    "    def call(self):\n",
    "        print(\"{} barks 1 times\".format(self.name))\n",
    "\n",
    "cat = Cat(\"Alice\")\n",
    "cat(6)\n",
    "print(\"\")\n",
    "dog = Dog(\"Little Tiger\")\n",
    "dog()"
   ]
  }
 ],
 "metadata": {
  "kernelspec": {
   "display_name": "Python 3.8.3 ('base')",
   "language": "python",
   "name": "python3"
  },
  "language_info": {
   "codemirror_mode": {
    "name": "ipython",
    "version": 3
   },
   "file_extension": ".py",
   "mimetype": "text/x-python",
   "name": "python",
   "nbconvert_exporter": "python",
   "pygments_lexer": "ipython3",
   "version": "3.8.3"
  },
  "orig_nbformat": 4,
  "vscode": {
   "interpreter": {
    "hash": "a077222d77dfe082b8f1dd562ad70e458ac2ab76993a0b248ab0476e32e9e8dd"
   }
  }
 },
 "nbformat": 4,
 "nbformat_minor": 2
}
