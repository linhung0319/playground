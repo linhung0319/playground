{
 "cells": [
  {
   "cell_type": "code",
   "execution_count": 14,
   "metadata": {},
   "outputs": [],
   "source": [
    "import tensorflow as tf\n",
    "import numpy as np"
   ]
  },
  {
   "cell_type": "code",
   "execution_count": 18,
   "metadata": {},
   "outputs": [
    {
     "name": "stdout",
     "output_type": "stream",
     "text": [
      "tf.Tensor([1 2], shape=(2,), dtype=int32) tf.Tensor([1. 0. 0.], shape=(3,), dtype=float32)\n",
      "tf.Tensor([3 4], shape=(2,), dtype=int32) tf.Tensor([0. 1. 0.], shape=(3,), dtype=float32)\n",
      "tf.Tensor([5 6], shape=(2,), dtype=int32) tf.Tensor([0. 0. 1.], shape=(3,), dtype=float32)\n",
      "\n",
      "tf.Tensor([1 2], shape=(2,), dtype=int32) tf.Tensor([1. 0. 0.], shape=(3,), dtype=float32)\n",
      "tf.Tensor([3 4], shape=(2,), dtype=int32) tf.Tensor([0. 1. 0.], shape=(3,), dtype=float32)\n",
      "tf.Tensor([5 6], shape=(2,), dtype=int32) tf.Tensor([0. 0. 1.], shape=(3,), dtype=float32)\n"
     ]
    }
   ],
   "source": [
    "def map_tuple(x, y):\n",
    "    y = tf.one_hot(y, depth=3)\n",
    "    return x, y\n",
    "\n",
    "def map_dict(ds):\n",
    "    x = ds['x']\n",
    "    y = ds['y']\n",
    "    y = tf.one_hot(y, depth=3)\n",
    "    return {'x': x, 'y': y}\n",
    "\n",
    "x = np.array([[1, 2], [3, 4], [5, 6]])\n",
    "y = np.array([0, 1, 2])\n",
    "\n",
    "d_dict = {'x': x, 'y': y}\n",
    "ds_dict = tf.data.Dataset.from_tensor_slices( d_dict )\n",
    "ds_dict = ds_dict.map(lambda ds: map_dict(ds))\n",
    "for data in ds_dict:\n",
    "    print(data['x'], data['y'])\n",
    "print(\"\")\n",
    "\n",
    "d_tuple = (x, y)\n",
    "ds_tuple = tf.data.Dataset.from_tensor_slices( d_tuple )\n",
    "# If the dataset is tuple, map function needs two input arguments\n",
    "ds_tuple = ds_tuple.map(lambda a, b: map_tuple(a, b))\n",
    "for data in ds_tuple:\n",
    "    print(data[0], data[1])"
   ]
  }
 ],
 "metadata": {
  "kernelspec": {
   "display_name": "Python 3.9.12 ('ob_detect')",
   "language": "python",
   "name": "python3"
  },
  "language_info": {
   "codemirror_mode": {
    "name": "ipython",
    "version": 3
   },
   "file_extension": ".py",
   "mimetype": "text/x-python",
   "name": "python",
   "nbconvert_exporter": "python",
   "pygments_lexer": "ipython3",
   "version": "3.9.12"
  },
  "orig_nbformat": 4,
  "vscode": {
   "interpreter": {
    "hash": "b10890bcf299a1fc22693352a5817f19050542817e769795d1b80e0243d6dd67"
   }
  }
 },
 "nbformat": 4,
 "nbformat_minor": 2
}
