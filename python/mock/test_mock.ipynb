{
 "cells": [
  {
   "cell_type": "code",
   "execution_count": 22,
   "metadata": {},
   "outputs": [],
   "source": [
    "from unittest import mock\n",
    "from functools import wraps"
   ]
  },
  {
   "cell_type": "code",
   "execution_count": 23,
   "metadata": {},
   "outputs": [],
   "source": [
    "def get_sum(x, y):\n",
    "    pass\n",
    "\n",
    "def wrap_func(func):\n",
    "    @wraps(func)\n",
    "    def wrapper(*args, **kwargs):\n",
    "        return 100 + func(*args, **kwargs)\n",
    "    return wrapper\n",
    "\n",
    "def mock_func():\n",
    "    return 30\n",
    "\n",
    "class MyClass:\n",
    "    def method1(self):\n",
    "        return 1000"
   ]
  },
  {
   "cell_type": "markdown",
   "metadata": {},
   "source": [
    "##### return_value:  \n",
    "\n",
    "Simulate the return value of a function\n",
    "\n",
    "##### side_effect:\n",
    "\n",
    "Simulate the return value of a function. The return value could be a function, an exception or an iterator.\n",
    "\n",
    "When return_value and side_effect are set at the same time, the result of side_effect will be returned."
   ]
  },
  {
   "cell_type": "code",
   "execution_count": 24,
   "metadata": {},
   "outputs": [
    {
     "name": "stdout",
     "output_type": "stream",
     "text": [
      "30\n",
      "<Mock name='get_sum' id='2309377346000'>\n"
     ]
    }
   ],
   "source": [
    "get_sum = mock.Mock(name='get_sum', return_value=20, side_effect=mock_func)\n",
    "result = get_sum()\n",
    "print(result)\n",
    "print(get_sum)"
   ]
  },
  {
   "cell_type": "markdown",
   "metadata": {},
   "source": [
    "##### spec:\n",
    "\n",
    "This can be either a list of strings or an existing object that acts as the specification for the mock object."
   ]
  },
  {
   "cell_type": "code",
   "execution_count": 25,
   "metadata": {},
   "outputs": [
    {
     "name": "stdout",
     "output_type": "stream",
     "text": [
      "<Mock name='mock.method1()' id='2309377346288'>\n"
     ]
    }
   ],
   "source": [
    "my_class = mock.Mock(spec=MyClass())\n",
    "print(my_class.method1())"
   ]
  },
  {
   "cell_type": "code",
   "execution_count": 26,
   "metadata": {},
   "outputs": [
    {
     "ename": "AttributeError",
     "evalue": "Mock object has no attribute 'method2'",
     "output_type": "error",
     "traceback": [
      "\u001b[1;31m---------------------------------------------------------------------------\u001b[0m",
      "\u001b[1;31mAttributeError\u001b[0m                            Traceback (most recent call last)",
      "\u001b[1;32m<ipython-input-26-9e03eef0e406>\u001b[0m in \u001b[0;36m<module>\u001b[1;34m\u001b[0m\n\u001b[0;32m      1\u001b[0m \u001b[1;31m### The mock object failed to execute when we\u001b[0m\u001b[1;33m\u001b[0m\u001b[1;33m\u001b[0m\u001b[1;33m\u001b[0m\u001b[0m\n\u001b[0;32m      2\u001b[0m \u001b[1;31m### invoked the method that is in the class.\u001b[0m\u001b[1;33m\u001b[0m\u001b[1;33m\u001b[0m\u001b[1;33m\u001b[0m\u001b[0m\n\u001b[1;32m----> 3\u001b[1;33m \u001b[0mprint\u001b[0m\u001b[1;33m(\u001b[0m\u001b[0mmy_class\u001b[0m\u001b[1;33m.\u001b[0m\u001b[0mmethod2\u001b[0m\u001b[1;33m(\u001b[0m\u001b[1;33m)\u001b[0m\u001b[1;33m)\u001b[0m\u001b[1;33m\u001b[0m\u001b[1;33m\u001b[0m\u001b[0m\n\u001b[0m",
      "\u001b[1;32mc:\\Users\\user\\anaconda3\\lib\\unittest\\mock.py\u001b[0m in \u001b[0;36m__getattr__\u001b[1;34m(self, name)\u001b[0m\n\u001b[0;32m    635\u001b[0m         \u001b[1;32melif\u001b[0m \u001b[0mself\u001b[0m\u001b[1;33m.\u001b[0m\u001b[0m_mock_methods\u001b[0m \u001b[1;32mis\u001b[0m \u001b[1;32mnot\u001b[0m \u001b[1;32mNone\u001b[0m\u001b[1;33m:\u001b[0m\u001b[1;33m\u001b[0m\u001b[1;33m\u001b[0m\u001b[0m\n\u001b[0;32m    636\u001b[0m             \u001b[1;32mif\u001b[0m \u001b[0mname\u001b[0m \u001b[1;32mnot\u001b[0m \u001b[1;32min\u001b[0m \u001b[0mself\u001b[0m\u001b[1;33m.\u001b[0m\u001b[0m_mock_methods\u001b[0m \u001b[1;32mor\u001b[0m \u001b[0mname\u001b[0m \u001b[1;32min\u001b[0m \u001b[0m_all_magics\u001b[0m\u001b[1;33m:\u001b[0m\u001b[1;33m\u001b[0m\u001b[1;33m\u001b[0m\u001b[0m\n\u001b[1;32m--> 637\u001b[1;33m                 \u001b[1;32mraise\u001b[0m \u001b[0mAttributeError\u001b[0m\u001b[1;33m(\u001b[0m\u001b[1;34m\"Mock object has no attribute %r\"\u001b[0m \u001b[1;33m%\u001b[0m \u001b[0mname\u001b[0m\u001b[1;33m)\u001b[0m\u001b[1;33m\u001b[0m\u001b[1;33m\u001b[0m\u001b[0m\n\u001b[0m\u001b[0;32m    638\u001b[0m         \u001b[1;32melif\u001b[0m \u001b[0m_is_magic\u001b[0m\u001b[1;33m(\u001b[0m\u001b[0mname\u001b[0m\u001b[1;33m)\u001b[0m\u001b[1;33m:\u001b[0m\u001b[1;33m\u001b[0m\u001b[1;33m\u001b[0m\u001b[0m\n\u001b[0;32m    639\u001b[0m             \u001b[1;32mraise\u001b[0m \u001b[0mAttributeError\u001b[0m\u001b[1;33m(\u001b[0m\u001b[0mname\u001b[0m\u001b[1;33m)\u001b[0m\u001b[1;33m\u001b[0m\u001b[1;33m\u001b[0m\u001b[0m\n",
      "\u001b[1;31mAttributeError\u001b[0m: Mock object has no attribute 'method2'"
     ]
    }
   ],
   "source": [
    "### The mock object failed to execute when we \n",
    "### invoked the method that is in the class.\n",
    "print(my_class.method2())"
   ]
  },
  {
   "cell_type": "markdown",
   "metadata": {},
   "source": [
    "##### Mock a function or a class inside a function:"
   ]
  },
  {
   "cell_type": "code",
   "execution_count": null,
   "metadata": {},
   "outputs": [
    {
     "data": {
      "text/plain": [
       "True"
      ]
     },
     "execution_count": 45,
     "metadata": {},
     "output_type": "execute_result"
    }
   ],
   "source": [
    "import datetime\n",
    "            \n",
    "def is_weekday():\n",
    "    today = datetime.datetime.today()\n",
    "    return (0 <= today.weekday() < 5)\n",
    "\n",
    "thursday = datetime.datetime(year=2022, month=9, day=15)\n",
    "### After we assign a mock object to datetime,\n",
    "### when a function invoke datetime, it is no\n",
    "### longer the datetime module.\n",
    "datetime = mock.Mock()\n",
    "### The method of a mock object is also a mock object.\n",
    "### we can create the mock object on the fly.\n",
    "datetime.datetime.today.return_value = thursday \n",
    "is_weekday()"
   ]
  },
  {
   "cell_type": "code",
   "execution_count": 29,
   "metadata": {},
   "outputs": [
    {
     "ename": "TypeError",
     "evalue": "can't set attributes of built-in/extension type 'datetime.datetime'",
     "output_type": "error",
     "traceback": [
      "\u001b[1;31m---------------------------------------------------------------------------\u001b[0m",
      "\u001b[1;31mTypeError\u001b[0m                                 Traceback (most recent call last)",
      "\u001b[1;32m<ipython-input-29-b89f7eda0962>\u001b[0m in \u001b[0;36m<module>\u001b[1;34m\u001b[0m\n\u001b[0;32m      7\u001b[0m \u001b[0mthursday\u001b[0m \u001b[1;33m=\u001b[0m \u001b[0mdatetime\u001b[0m\u001b[1;33m.\u001b[0m\u001b[0mdatetime\u001b[0m\u001b[1;33m(\u001b[0m\u001b[0myear\u001b[0m\u001b[1;33m=\u001b[0m\u001b[1;36m2022\u001b[0m\u001b[1;33m,\u001b[0m \u001b[0mmonth\u001b[0m\u001b[1;33m=\u001b[0m\u001b[1;36m9\u001b[0m\u001b[1;33m,\u001b[0m \u001b[0mday\u001b[0m\u001b[1;33m=\u001b[0m\u001b[1;36m15\u001b[0m\u001b[1;33m)\u001b[0m\u001b[1;33m\u001b[0m\u001b[1;33m\u001b[0m\u001b[0m\n\u001b[0;32m      8\u001b[0m \u001b[1;31m### datetime.datetime is written in C which can not be mocked.\u001b[0m\u001b[1;33m\u001b[0m\u001b[1;33m\u001b[0m\u001b[1;33m\u001b[0m\u001b[0m\n\u001b[1;32m----> 9\u001b[1;33m \u001b[0mdatetime\u001b[0m\u001b[1;33m.\u001b[0m\u001b[0mdatetime\u001b[0m\u001b[1;33m.\u001b[0m\u001b[0mtoday\u001b[0m \u001b[1;33m=\u001b[0m \u001b[0mmock\u001b[0m\u001b[1;33m.\u001b[0m\u001b[0mMock\u001b[0m\u001b[1;33m(\u001b[0m\u001b[1;33m)\u001b[0m\u001b[1;33m\u001b[0m\u001b[1;33m\u001b[0m\u001b[0m\n\u001b[0m\u001b[0;32m     10\u001b[0m \u001b[0mdatetime\u001b[0m\u001b[1;33m.\u001b[0m\u001b[0mdatetime\u001b[0m\u001b[1;33m.\u001b[0m\u001b[0mtoday\u001b[0m\u001b[1;33m.\u001b[0m\u001b[0mreturn_value\u001b[0m \u001b[1;33m=\u001b[0m \u001b[0mthursday\u001b[0m\u001b[1;33m\u001b[0m\u001b[1;33m\u001b[0m\u001b[0m\n\u001b[0;32m     11\u001b[0m \u001b[0mis_weekday\u001b[0m\u001b[1;33m(\u001b[0m\u001b[1;33m)\u001b[0m\u001b[1;33m\u001b[0m\u001b[1;33m\u001b[0m\u001b[0m\n",
      "\u001b[1;31mTypeError\u001b[0m: can't set attributes of built-in/extension type 'datetime.datetime'"
     ]
    }
   ],
   "source": [
    "import datetime\n",
    "            \n",
    "def is_weekday():\n",
    "    today = datetime.datetime.today()\n",
    "    return (0 <= today.weekday() < 5)\n",
    "\n",
    "thursday = datetime.datetime(year=2022, month=9, day=15)\n",
    "### datetime.datetime is written in C which can not be mocked.\n",
    "datetime.datetime.today = mock.Mock()\n",
    "datetime.datetime.today.return_value = thursday \n",
    "is_weekday()"
   ]
  },
  {
   "cell_type": "markdown",
   "metadata": {},
   "source": [
    "##### mock.patch:\n",
    "\n",
    "We can also use patch() to mock objects which looks up an object in a given module and replaces that object with a Mock.\n",
    "\n",
    "Usually, you use patch() as a decorator or a context manager to provide a scope in which you will mock the tarket object"
   ]
  },
  {
   "cell_type": "code",
   "execution_count": null,
   "metadata": {},
   "outputs": [],
   "source": [
    "import datetime\n",
    "            \n",
    "def is_weekday():\n",
    "    today = datetime.datetime.today()\n",
    "    return (0 <= today.weekday() < 5)\n",
    "\n",
    "class FakeDatetime(datetime.datetime):\n",
    "    \"\"\"A fake replacement for datetime that can be mocked for testing.\"\"\"\n",
    "    @classmethod\n",
    "    def today(cls):\n",
    "        return cls(year=2022, month=9, day=15)\n",
    "\n",
    "### datetime.datetime is written in C which can not be mocked.\n",
    "### We use a derived class of datetime.datetime, so that the\n",
    "### derived class is actually datetime.datime except it is\n",
    "### written in python. \n",
    "@mock.patch(\"datetime.datetime\", FakeDatetime)\n",
    "def test_is_weekday():\n",
    "    ### datetime.datetime is replaced by FakeDatetime\n",
    "    ### datetime.datetime.today() is hard coded in class\n",
    "    ### FakeDatetime. What if we want to test multiple\n",
    "    ### today() in one testing function.\n",
    "    print(is_weekday())\n",
    "\n",
    "test_is_weekday()"
   ]
  },
  {
   "cell_type": "markdown",
   "metadata": {},
   "source": [
    "##### patch() as a context manager:\n",
    "\n",
    "Sometimes, you will want to use patch as a context manager rather than a decorator. Some reasons why you might prefer context manager include the following:\n",
    "\n",
    "* You only want to mock an object for a part of the test scope.\n",
    "\n",
    "* You are already using too many decorators or parameters, which hurts yout test's readability"
   ]
  },
  {
   "cell_type": "code",
   "execution_count": 33,
   "metadata": {},
   "outputs": [
    {
     "name": "stdout",
     "output_type": "stream",
     "text": [
      "True\n"
     ]
    }
   ],
   "source": [
    "import datetime\n",
    "            \n",
    "def is_weekday():\n",
    "    today = datetime.datetime.today()\n",
    "    return (0 <= today.weekday() < 5)\n",
    "\n",
    "def test_is_weekday():\n",
    "    thursday = datetime.datetime(year=2022, month=9, day=15)\n",
    "    ### datetime.datetime is replaced by a mock object \n",
    "    ### inside the context manager. \n",
    "    ### We can use module datetime outside the context manager\n",
    "    ### which is more flexible than using mock.patch() as decorator\n",
    "    with mock.patch(\"datetime.datetime\") as mock_datetime:\n",
    "        mock_datetime.today.return_value = thursday\n",
    "        print(is_weekday())\n",
    "\n",
    "test_is_weekday()"
   ]
  }
 ],
 "metadata": {
  "kernelspec": {
   "display_name": "Python 3.8.3 ('base')",
   "language": "python",
   "name": "python3"
  },
  "language_info": {
   "codemirror_mode": {
    "name": "ipython",
    "version": 3
   },
   "file_extension": ".py",
   "mimetype": "text/x-python",
   "name": "python",
   "nbconvert_exporter": "python",
   "pygments_lexer": "ipython3",
   "version": "3.8.3"
  },
  "orig_nbformat": 4,
  "vscode": {
   "interpreter": {
    "hash": "a077222d77dfe082b8f1dd562ad70e458ac2ab76993a0b248ab0476e32e9e8dd"
   }
  }
 },
 "nbformat": 4,
 "nbformat_minor": 2
}
