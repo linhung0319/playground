{
 "cells": [
  {
   "cell_type": "markdown",
   "metadata": {},
   "source": [
    "### When to use a decorator\n",
    "\n",
    "You will use a decorator when you need to change the behavior of a function without modifying the function itself.\n",
    "\n",
    "A few good examples are when you want to add logging, test performance, perform caching, verify permissions and so on."
   ]
  },
  {
   "cell_type": "code",
   "execution_count": 57,
   "metadata": {},
   "outputs": [],
   "source": [
    "from functools import wraps"
   ]
  },
  {
   "cell_type": "code",
   "execution_count": 58,
   "metadata": {},
   "outputs": [],
   "source": [
    "def my_decorator_A(func):\n",
    "    def wrapper_func(*args, **kwargs):\n",
    "        print(\"Do A before func\")\n",
    "        func(*args, **kwargs)\n",
    "        print(\"Do A after func\")\n",
    "    return wrapper_func\n",
    "\n",
    "def my_decorator_B(func):\n",
    "    @wraps(func)\n",
    "    def wrapper_func(*args, **kwargs):\n",
    "        print(\"Do B before func\")\n",
    "        func(*args, **kwargs)\n",
    "        print(\"Do B before func\")\n",
    "    return wrapper_func\n",
    "\n",
    "def func1(x):\n",
    "    \"\"\"Example docstring for func1\"\"\"\n",
    "    print(\"func1: \", x)\n",
    "\n",
    "@my_decorator_A\n",
    "def func2(x):\n",
    "    \"\"\"Example docstring for func2\"\"\"\n",
    "    print(\"func2: \", x)\n",
    "\n",
    "@my_decorator_B\n",
    "def func3(x):\n",
    "    \"\"\"Example docstring for func3\"\"\"\n",
    "    print(\"func3: \", x)"
   ]
  },
  {
   "cell_type": "code",
   "execution_count": 59,
   "metadata": {},
   "outputs": [
    {
     "name": "stdout",
     "output_type": "stream",
     "text": [
      "Do A before func\n",
      "func1:  100\n",
      "Do A after func\n",
      "\n",
      "func1\n",
      "Example docstring for func1\n"
     ]
    }
   ],
   "source": [
    "### Explicitly invoke the decorator.\n",
    "x = my_decorator_A(func1)\n",
    "x(100)\n",
    "print(\"\")\n",
    "print(func1.__name__)\n",
    "print(func1.__doc__)"
   ]
  },
  {
   "cell_type": "code",
   "execution_count": 60,
   "metadata": {},
   "outputs": [
    {
     "name": "stdout",
     "output_type": "stream",
     "text": [
      "Do A before func\n",
      "func2:  100\n",
      "Do A after func\n",
      "\n",
      "wrapper_func\n",
      "None\n"
     ]
    }
   ],
   "source": [
    "### Use @ to invoke the decorator.\n",
    "func2(100)\n",
    "print(\"\")\n",
    "print(func2.__name__)\n",
    "print(func2.__doc__)"
   ]
  },
  {
   "cell_type": "markdown",
   "metadata": {},
   "source": [
    "Decorators hide the function they are decorating. If we check the __name__ or __doc__ method, we get an unexpected result."
   ]
  },
  {
   "cell_type": "code",
   "execution_count": 61,
   "metadata": {},
   "outputs": [
    {
     "name": "stdout",
     "output_type": "stream",
     "text": [
      "Do B before func\n",
      "func3:  100\n",
      "Do B before func\n",
      "\n",
      "func3\n",
      "Example docstring for func3\n"
     ]
    }
   ],
   "source": [
    "### Use @ to invoke the decorator.\n",
    "func3(100)\n",
    "print(\"\")\n",
    "print(func3.__name__)\n",
    "print(func3.__doc__)"
   ]
  },
  {
   "cell_type": "markdown",
   "metadata": {},
   "source": [
    "### Decorators are just a pythonic variant of the decorator design pattern"
   ]
  },
  {
   "cell_type": "code",
   "execution_count": 77,
   "metadata": {},
   "outputs": [],
   "source": [
    "from functools import wraps\n",
    "\n",
    "def bread(func):\n",
    "    @wraps(func)\n",
    "    def wrapper():\n",
    "        print(\"</''''''\\>\")\n",
    "        func()\n",
    "        print(\"<\\______/>\")\n",
    "    return wrapper \n",
    "\n",
    "def ingredients(func):\n",
    "    @wraps(func)\n",
    "    def wrapper(*args, **kwargs):\n",
    "        print(\"#tomatoes#\")\n",
    "        func(*args, **kwargs)\n",
    "        print(\"#salad#\")\n",
    "    return wrapper\n",
    "\n",
    "def sandwich1(food=\"--ham--\"):\n",
    "    print(food)\n",
    "\n",
    "@bread\n",
    "@ingredients\n",
    "def sandwich2(food=\"--ham--\"):\n",
    "    print(food)"
   ]
  },
  {
   "cell_type": "code",
   "execution_count": 63,
   "metadata": {},
   "outputs": [
    {
     "name": "stdout",
     "output_type": "stream",
     "text": [
      "</''''''\\>\n",
      "#tomatoes#\n",
      "--ham--\n",
      "#salad#\n",
      "<\\______/>\n",
      "\n",
      "sandwich1\n"
     ]
    }
   ],
   "source": [
    "sandwich = bread(ingredients(sandwich1))\n",
    "sandwich()\n",
    "print(\"\")\n",
    "print(sandwich1.__name__)"
   ]
  },
  {
   "cell_type": "code",
   "execution_count": 78,
   "metadata": {},
   "outputs": [
    {
     "name": "stdout",
     "output_type": "stream",
     "text": [
      "</''''''\\>\n",
      "#tomatoes#\n",
      "--ham--\n",
      "#salad#\n",
      "<\\______/>\n",
      "\n",
      "sandwich2\n"
     ]
    }
   ],
   "source": [
    "sandwich2()\n",
    "print(\"\")\n",
    "print(sandwich2.__name__)"
   ]
  },
  {
   "cell_type": "markdown",
   "metadata": {},
   "source": [
    "### Example of a Python Decorator in Action\n",
    "\n",
    "We will use the decorator to test the performance of list generation."
   ]
  },
  {
   "cell_type": "code",
   "execution_count": 65,
   "metadata": {},
   "outputs": [],
   "source": [
    "from functools import wraps\n",
    "import tracemalloc\n",
    "from time import perf_counter"
   ]
  },
  {
   "cell_type": "code",
   "execution_count": 66,
   "metadata": {},
   "outputs": [],
   "source": [
    "def measure_performance(func):\n",
    "    \"\"\"Measure performance of a function\"\"\"\n",
    "    @wraps(func)\n",
    "    def wrapper(*args, **kwargs):\n",
    "        tracemalloc.start()\n",
    "        start_time = perf_counter()\n",
    "        func(*args, **kwargs)\n",
    "        finish_time = perf_counter()\n",
    "        current, peak = tracemalloc.get_traced_memory()\n",
    "        tracemalloc.stop()\n",
    "        print(f'Function: {func.__name__}')\n",
    "        print(f'Method: {func.__doc__}')\n",
    "        print(f'Memory usage:\\t\\t {current / 10**6:.6f} MB \\n'\n",
    "              f'Peak memory usage:\\t {peak / 10**6:.6f} MB ')\n",
    "        print(f'Time elapsed is seconds: {finish_time - start_time:.6f}')\n",
    "        print(f'{\"-\"*40}')\n",
    "    return wrapper\n",
    "\n",
    "@measure_performance\n",
    "def make_list1():\n",
    "    '''Range'''\n",
    "\n",
    "    my_list = list(range(100000))\n",
    "\n",
    "\n",
    "@measure_performance\n",
    "def make_list2():\n",
    "    '''List comprehension'''\n",
    "\n",
    "    my_list = [l for l in range(100000)]\n",
    "\n",
    "\n",
    "@measure_performance\n",
    "def make_list3():\n",
    "    '''Append'''\n",
    "\n",
    "    my_list = []\n",
    "    for item in range(100000):\n",
    "        my_list.append(item)\n",
    "\n",
    "\n",
    "@measure_performance\n",
    "def make_list4():\n",
    "    '''Concatenation'''\n",
    "\n",
    "    my_list = []\n",
    "    for item in range(100000):\n",
    "        my_list = my_list + [item]"
   ]
  },
  {
   "cell_type": "code",
   "execution_count": 67,
   "metadata": {},
   "outputs": [
    {
     "name": "stdout",
     "output_type": "stream",
     "text": [
      "Function: make_list1\n",
      "Method: Range\n",
      "Memory usage:\t\t 0.000735 MB \n",
      "Peak memory usage:\t 3.593972 MB \n",
      "Time elapsed is seconds: 0.024316\n",
      "----------------------------------------\n",
      "Function: make_list2\n",
      "Method: List comprehension\n",
      "Memory usage:\t\t 0.000128 MB \n",
      "Peak memory usage:\t 3.617500 MB \n",
      "Time elapsed is seconds: 0.026485\n",
      "----------------------------------------\n",
      "Function: make_list3\n",
      "Method: Append\n",
      "Memory usage:\t\t 0.000055 MB \n",
      "Peak memory usage:\t 3.617291 MB \n",
      "Time elapsed is seconds: 0.029760\n",
      "----------------------------------------\n",
      "Function: make_list4\n",
      "Method: Concatenation\n",
      "Memory usage:\t\t 0.148057 MB \n",
      "Peak memory usage:\t 4.540893 MB \n",
      "Time elapsed is seconds: 9.571603\n",
      "----------------------------------------\n"
     ]
    }
   ],
   "source": [
    "make_list1()\n",
    "make_list2()\n",
    "make_list3()\n",
    "make_list4()"
   ]
  }
 ],
 "metadata": {
  "kernelspec": {
   "display_name": "Python 3.8.3 ('base')",
   "language": "python",
   "name": "python3"
  },
  "language_info": {
   "codemirror_mode": {
    "name": "ipython",
    "version": 3
   },
   "file_extension": ".py",
   "mimetype": "text/x-python",
   "name": "python",
   "nbconvert_exporter": "python",
   "pygments_lexer": "ipython3",
   "version": "3.8.3"
  },
  "orig_nbformat": 4,
  "vscode": {
   "interpreter": {
    "hash": "a077222d77dfe082b8f1dd562ad70e458ac2ab76993a0b248ab0476e32e9e8dd"
   }
  }
 },
 "nbformat": 4,
 "nbformat_minor": 2
}
