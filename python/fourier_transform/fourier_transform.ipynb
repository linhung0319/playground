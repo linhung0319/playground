{
 "cells": [
  {
   "cell_type": "code",
   "execution_count": 14,
   "metadata": {},
   "outputs": [],
   "source": [
    "import numpy as np\n",
    "from scipy.fft import fft, ifft\n",
    "import matplotlib.pyplot as plt"
   ]
  },
  {
   "cell_type": "code",
   "execution_count": 15,
   "metadata": {},
   "outputs": [
    {
     "name": "stdout",
     "output_type": "stream",
     "text": [
      "resolution of frequency:  1.5625\n"
     ]
    }
   ],
   "source": [
    "fs = 800 ### sample rate\n",
    "n_window = 512 ### window length\n",
    "x = np.arange(n_window)\n",
    "f1 = 50 ### Hz\n",
    "y1 = np.sin( (2 * np.pi * f1 / fs) * x )\n",
    "f2 = 80 ### Hz\n",
    "y2 = np.sin( (2 * np.pi * f2 / fs) * x )\n",
    "y = y1 + 0.5 * y2\n",
    "### Signal with 16000 sample rate can contain 0 ~ 8000 Hz wave.\n",
    "### Fourier transorm with 512 window length can have 0 ~ 256\n",
    "### cycle of wave base. As a result, the resolution of frequency\n",
    "### is 8000 / 256.\n",
    "resolution = (fs / 2) / (n_window / 2)\n",
    "print(\"resolution of frequency: \", resolution)"
   ]
  },
  {
   "cell_type": "code",
   "execution_count": 16,
   "metadata": {},
   "outputs": [
    {
     "name": "stdout",
     "output_type": "stream",
     "text": [
      "49.21875 < 50 < 50.78125\n",
      "y == ifft_y True\n"
     ]
    }
   ],
   "source": [
    "fft_y = fft(y)\n",
    "fft_y_abs = np.absolute(fft_y[:n_window // 2 + 1])\n",
    "ifft_y = ifft(fft_y).real\n",
    "\n",
    "print(resolution * (np.argmax(fft_y_abs) - 0.5),\n",
    "      \"<\", \n",
    "      f1,\n",
    "      \"<\",\n",
    "      resolution * (np.argmax(fft_y_abs) + 0.5)  )\n",
    "print(\"y == ifft_y\", np.allclose(y, ifft_y))"
   ]
  },
  {
   "cell_type": "code",
   "execution_count": 17,
   "metadata": {},
   "outputs": [
    {
     "data": {
      "text/plain": [
       "Text(0.5, 1.0, 'Hamming')"
      ]
     },
     "execution_count": 17,
     "metadata": {},
     "output_type": "execute_result"
    },
    {
     "data": {
      "image/png": "[encoded data removed]",
      "text/plain": [
       "<Figure size 432x288 with 1 Axes>"
      ]
     },
     "metadata": {
      "needs_background": "light"
     },
     "output_type": "display_data"
    }
   ],
   "source": [
    "hamming = np.hamming(n_window)\n",
    "plt.figure(1)\n",
    "plt.plot(hamming)\n",
    "plt.title(\"Hamming\")"
   ]
  },
  {
   "cell_type": "markdown",
   "metadata": {},
   "source": [
    "##### Sepctral leakage\n",
    "\n",
    "The FFT input signal is inherently truncated. This truncation can be modeled as multiplication of an infinite signal with a rectangular window function. In the spectral domain this multiplication becomes convolution of the signal spectrum with the window function spectrum, being of form . This convolution is the cause of an effect called spectral leakage.\n",
    "\n",
    "Windowing the signal with a dedicated window function helps mitigate spectral leakage."
   ]
  },
  {
   "cell_type": "code",
   "execution_count": 18,
   "metadata": {},
   "outputs": [
    {
     "data": {
      "text/plain": [
       "<matplotlib.legend.Legend at 0x140b347fc40>"
      ]
     },
     "execution_count": 18,
     "metadata": {},
     "output_type": "execute_result"
    },
    {
     "data": {
      "image/png": "[encoded data removed]",
      "text/plain": [
       "<Figure size 432x288 with 1 Axes>"
      ]
     },
     "metadata": {
      "needs_background": "light"
     },
     "output_type": "display_data"
    }
   ],
   "source": [
    "fft_y_hamming = fft(y * hamming)\n",
    "fft_y_hamming_abs = np.absolute(fft_y_hamming[:n_window // 2 + 1])\n",
    "plt.figure(2)\n",
    "plt.semilogy(fft_y_abs)\n",
    "plt.semilogy(fft_y_hamming_abs)\n",
    "plt.legend(['FFT', 'FFT w. window'])"
   ]
  },
  {
   "cell_type": "code",
   "execution_count": 19,
   "metadata": {},
   "outputs": [
    {
     "name": "stdout",
     "output_type": "stream",
     "text": [
      "y == ifft_y_hamming True\n"
     ]
    }
   ],
   "source": [
    "### Hamming window does not contain 0, so\n",
    "### it is easier to do the inverse process.\n",
    "ifft_y_hamming = ifft(fft_y_hamming).real\n",
    "ifft_y_hamming /= hamming\n",
    "print(\"y == ifft_y_hamming\", np.allclose(y, ifft_y_hamming))"
   ]
  },
  {
   "cell_type": "code",
   "execution_count": 20,
   "metadata": {},
   "outputs": [
    {
     "name": "stdout",
     "output_type": "stream",
     "text": [
      "fft_y == my_dft_y True\n",
      "ifft_y == my_dift_y True\n"
     ]
    }
   ],
   "source": [
    "def my_dft(x):\n",
    "    x = np.array(x)\n",
    "    n_window = len(x)\n",
    "    y = []\n",
    "    for k in range(n_window):\n",
    "        base = np.exp( -1j * 2 * np.pi * k * np.arange(n_window) / n_window )\n",
    "        y.append( np.sum(x * base) )\n",
    "    return np.array(y)\n",
    "\n",
    "def my_dift(x):\n",
    "    x = np.array(x)\n",
    "    n_window = len(x)\n",
    "    y = []\n",
    "    for k in range(n_window):\n",
    "        base = np.exp( 1j * 2 * np.pi * k * np.arange(n_window) / n_window )\n",
    "        y.append( np.sum(x * base) )\n",
    "    return np.array(y) / n_window\n",
    "\n",
    "my_dft_y = my_dft(y)\n",
    "print(\"fft_y == my_dft_y\", np.allclose(fft_y, my_dft_y))\n",
    "\n",
    "my_dift_y = my_dift(my_dft_y)\n",
    "print( \"ifft_y == my_dift_y\", np.allclose(ifft(fft_y), my_dift_y) )"
   ]
  },
  {
   "cell_type": "markdown",
   "metadata": {},
   "source": [
    "![](formula.PNG)\n",
    "\n",
    "F(N, k) = F<sub>even</sub>(N / 2, k) + w<sub>k</sub> x F<sub>odd</sub>(N / 2 , k)\n",
    "\n",
    "![](cycle.PNG)\n",
    "\n",
    "F(N / 2, k + N / 2) = F(N / 2, k)\n",
    "\n",
    "![](F_12_2.gif)\n",
    "\n",
    "The time complexity of FFT is O( n log n )"
   ]
  },
  {
   "cell_type": "code",
   "execution_count": 23,
   "metadata": {},
   "outputs": [
    {
     "name": "stdout",
     "output_type": "stream",
     "text": [
      "fft_y == my_fft_y True\n"
     ]
    }
   ],
   "source": [
    "def my_fft(x):\n",
    "    x = np.array(x)\n",
    "    n_window = len(x)\n",
    "    if n_window == 1:\n",
    "        return x\n",
    "    elif n_window % 2 > 0:\n",
    "        raise ValueError(\"size of x must be a power of 2.\")\n",
    "    else:\n",
    "        x_even = my_fft(x[::2])\n",
    "        x_odd = my_fft(x[1::2])\n",
    "        factor = np.exp( -1j * 2 * np.pi * np.arange(n_window) / n_window)\n",
    "        return np.concatenate([x_even + factor[:n_window // 2] * x_odd,\n",
    "                               x_even + factor[n_window // 2:] * x_odd])\n",
    "\n",
    "my_fft_y = my_fft(y)\n",
    "print(\"fft_y == my_fft_y\", np.allclose(fft_y, my_fft_y))"
   ]
  }
 ],
 "metadata": {
  "kernelspec": {
   "display_name": "Python 3.8.3 ('base')",
   "language": "python",
   "name": "python3"
  },
  "language_info": {
   "codemirror_mode": {
    "name": "ipython",
    "version": 3
   },
   "file_extension": ".py",
   "mimetype": "text/x-python",
   "name": "python",
   "nbconvert_exporter": "python",
   "pygments_lexer": "ipython3",
   "version": "3.8.3"
  },
  "orig_nbformat": 4,
  "vscode": {
   "interpreter": {
    "hash": "a077222d77dfe082b8f1dd562ad70e458ac2ab76993a0b248ab0476e32e9e8dd"
   }
  }
 },
 "nbformat": 4,
 "nbformat_minor": 2
}
